{
 "cells": [
  {
   "cell_type": "markdown",
   "id": "838bce69-024e-463a-98d1-173f2a3a3905",
   "metadata": {},
   "source": [
    "hello\n"
   ]
  },
  {
   "cell_type": "markdown",
   "id": "f33fdb03-19d1-4221-9a06-56e37f69054c",
   "metadata": {},
   "source": [
    "world is a beautiful place\n"
   ]
  },
  {
   "cell_type": "code",
   "execution_count": null,
   "id": "f6832544-aa98-4bf5-8ec9-9ef88e185d33",
   "metadata": {},
   "outputs": [],
   "source": []
  }
 ],
 "metadata": {
  "kernelspec": {
   "display_name": "Python 3 (ipykernel)",
   "language": "python",
   "name": "python3"
  },
  "language_info": {
   "codemirror_mode": {
    "name": "ipython",
    "version": 3
   },
   "file_extension": ".py",
   "mimetype": "text/x-python",
   "name": "python",
   "nbconvert_exporter": "python",
   "pygments_lexer": "ipython3",
   "version": "3.11.7"
  }
 },
 "nbformat": 4,
 "nbformat_minor": 5
}
