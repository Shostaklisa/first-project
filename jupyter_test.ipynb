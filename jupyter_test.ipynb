{
 "cells": [
  {
   "cell_type": "markdown",
   "id": "838bce69-024e-463a-98d1-173f2a3a3905",
   "metadata": {},
   "source": [
    "hello\n"
   ]
  },
  {
   "cell_type": "code",
   "execution_count": null,
   "id": "3e1fff6b-6244-48e2-9a5c-12cf98bd4e3e",
   "metadata": {},
   "outputs": [],
   "source": []
  },
  {
   "cell_type": "markdown",
   "id": "ca18b802-9168-40ca-9ee2-206666c34c7c",
   "metadata": {},
   "source": []
  },
  {
   "cell_type": "markdown",
   "id": "f33fdb03-19d1-4221-9a06-56e37f69054c",
   "metadata": {},
   "source": [
    "world is a beautiful place\n"
   ]
  },
  {
   "cell_type": "code",
   "execution_count": null,
   "id": "f6832544-aa98-4bf5-8ec9-9ef88e185d33",
   "metadata": {},
   "outputs": [],
   "source": [
    "changed"
   ]
  }
 ],
 "metadata": {
  "kernelspec": {
   "display_name": "Python 3 (ipykernel)",
   "language": "python",
   "name": "python3"
  },
  "language_info": {
   "codemirror_mode": {
    "name": "ipython",
    "version": 3
   },
   "file_extension": ".py",
   "mimetype": "text/x-python",
   "name": "python",
   "nbconvert_exporter": "python",
   "pygments_lexer": "ipython3",
   "version": "3.11.7"
  }
 },
 "nbformat": 4,
 "nbformat_minor": 5
}
